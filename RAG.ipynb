{
  "nbformat": 4,
  "nbformat_minor": 0,
  "metadata": {
    "colab": {
      "provenance": [],
      "toc_visible": true,
      "authorship_tag": "ABX9TyPsPrlkdn00PXvAreAZqT5a",
      "include_colab_link": true
    },
    "kernelspec": {
      "name": "python3",
      "display_name": "Python 3"
    },
    "language_info": {
      "name": "python"
    }
  },
  "cells": [
    {
      "cell_type": "markdown",
      "metadata": {
        "id": "view-in-github",
        "colab_type": "text"
      },
      "source": [
        "<a href=\"https://colab.research.google.com/github/mayureshpawashe/chatbot/blob/main/RAG.ipynb\" target=\"_parent\"><img src=\"https://colab.research.google.com/assets/colab-badge.svg\" alt=\"Open In Colab\"/></a>"
      ]
    },
    {
      "cell_type": "code",
      "execution_count": null,
      "metadata": {
        "id": "eM7GG_9fPmWy"
      },
      "outputs": [],
      "source": [
        "!pip install langchain langchain-community groq sentence-transformers pypdf\n"
      ]
    },
    {
      "cell_type": "code",
      "source": [
        "!pip install chromadb"
      ],
      "metadata": {
        "id": "B1LJZuw9P0E3"
      },
      "execution_count": null,
      "outputs": []
    },
    {
      "cell_type": "markdown",
      "source": [
        "##RAG Reads PDF\n"
      ],
      "metadata": {
        "id": "Zxw691GfBdTV"
      }
    },
    {
      "cell_type": "code",
      "source": [
        "from langchain.document_loaders import PyPDFLoader\n",
        "pdf_loader = PyPDFLoader(\"sample_data/sample.pdf\")\n",
        "documents = pdf_loader.load()\n",
        "\n"
      ],
      "metadata": {
        "id": "iRX1aiyRQVQ7"
      },
      "execution_count": null,
      "outputs": []
    },
    {
      "cell_type": "code",
      "source": [
        "from langchain_groq import ChatGroq\n",
        "from langchain.chains import RetrievalQA\n",
        "from langchain.vectorstores import Chroma\n",
        "from langchain.embeddings import HuggingFaceEmbeddings\n",
        "from langchain.text_splitter import CharacterTextSplitter\n",
        "from langchain.document_loaders import PyPDFLoader\n",
        "from google.colab import userdata\n",
        "\n",
        "key = userdata.get('GROQ_API_KEY')\n",
        "\n",
        "\n",
        "pdf_loader = PyPDFLoader(\"sample_data/sample.pdf\")\n",
        "documents = pdf_loader.load()\n",
        "\n",
        "text_splitter = CharacterTextSplitter(chunk_size=1000, chunk_overlap=200)\n",
        "split_docs = text_splitter.split_documents(documents)\n",
        "\n",
        "embedding_model = HuggingFaceEmbeddings(model_name=\"all-MiniLM-L6-v2\")\n",
        "\n",
        "vector_db = Chroma.from_documents(split_docs, embedding_model)\n",
        "\n",
        "llm = ChatGroq(model_name=\"llama-3.3-70b-versatile\", groq_api_key=key)\n",
        "\n",
        "retriever = vector_db.as_retriever()\n",
        "qa_chain = RetrievalQA.from_chain_type(llm, retriever=retriever)\n",
        "\n",
        "while True:\n",
        "    query = input(\"\\nEnter Your Question (or type 'exit' to quit): \")\n",
        "\n",
        "    if query.lower() == \"exit\":\n",
        "        print(\"Exiting... 👋\")\n",
        "        break\n",
        "\n",
        "    response = qa_chain.run(query)\n",
        "    print(\"\\nAnswer:\\n\", response)\n"
      ],
      "metadata": {
        "colab": {
          "base_uri": "https://localhost:8080/"
        },
        "id": "DNA0PT4tSNOl",
        "outputId": "9e150b29-1fab-431a-8039-8d75331c99bc"
      },
      "execution_count": null,
      "outputs": [
        {
          "output_type": "stream",
          "name": "stdout",
          "text": [
            "\n",
            "Enter Your Question (or type 'exit' to quit): exit\n",
            "Exiting... 👋\n"
          ]
        }
      ]
    },
    {
      "cell_type": "markdown",
      "source": [
        "#RAG Scans Website"
      ],
      "metadata": {
        "id": "IvrxMBjoBniK"
      }
    },
    {
      "cell_type": "code",
      "source": [
        "import requests\n",
        "from bs4 import BeautifulSoup\n",
        "from langchain_groq import ChatGroq\n",
        "from langchain.chains import RetrievalQA\n",
        "from langchain.vectorstores import Chroma\n",
        "from langchain.embeddings import HuggingFaceEmbeddings\n",
        "from langchain.text_splitter import CharacterTextSplitter\n",
        "from google.colab import userdata\n",
        "\n",
        "key = userdata.get('GROQ_API_KEY')\n",
        "\n",
        "def scrape_website(url):\n",
        "    try:\n",
        "        response = requests.get(url)\n",
        "        response.raise_for_status()\n",
        "        soup = BeautifulSoup(response.text, \"html.parser\")\n",
        "        paragraphs = soup.find_all(\"p\")\n",
        "        text = \"\\n\".join([p.get_text() for p in paragraphs])\n",
        "        return text\n",
        "    except Exception as e:\n",
        "        return f\"Error fetching website: {e}\"\n",
        "\n",
        "website_url = input(\"Enter a website URL to scan: \")\n",
        "\n",
        "website_text = scrape_website(website_url)\n",
        "\n",
        "if \"Error\" in website_text:\n",
        "    print(website_text)\n",
        "else:\n",
        "    print(\"✅ Website data fetched successfully!\")\n",
        "    text_splitter = CharacterTextSplitter(chunk_size=1000, chunk_overlap=200)\n",
        "    split_docs = text_splitter.create_documents([website_text])\n",
        "\n",
        "    embedding_model = HuggingFaceEmbeddings(model_name=\"all-MiniLM-L6-v2\")\n",
        "    vector_db = Chroma.from_documents(split_docs, embedding_model)\n",
        "\n",
        "    llm = ChatGroq(model_name=\"llama-3.3-70b-versatile\", groq_api_key=key)\n",
        "\n",
        "    retriever = vector_db.as_retriever()\n",
        "    qa_chain = RetrievalQA.from_chain_type(llm, retriever=retriever)\n",
        "\n",
        "    while True:\n",
        "        query = input(\"\\nEnter Your Question (or type 'exit' to quit): \")\n",
        "\n",
        "        if query.lower() == \"exit\":\n",
        "            print(\"Exiting... 👋\")\n",
        "            break\n",
        "\n",
        "        response = qa_chain.run(query)\n",
        "        print(\"\\nAnswer:\\n\", response)\n"
      ],
      "metadata": {
        "id": "opONYNZRD6Es"
      },
      "execution_count": null,
      "outputs": []
    }
  ]
}