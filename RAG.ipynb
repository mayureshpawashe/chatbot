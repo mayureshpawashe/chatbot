{
  "nbformat": 4,
  "nbformat_minor": 0,
  "metadata": {
    "colab": {
      "provenance": [],
      "authorship_tag": "ABX9TyN9ijgUrQFkglG3JKz0gHq+"
    },
    "kernelspec": {
      "name": "python3",
      "display_name": "Python 3"
    },
    "language_info": {
      "name": "python"
    }
  },
  "cells": [
    {
      "cell_type": "code",
      "execution_count": null,
      "metadata": {
        "id": "eM7GG_9fPmWy"
      },
      "outputs": [],
      "source": [
        "!pip install langchain langchain-community groq sentence-transformers pypdf\n"
      ]
    },
    {
      "cell_type": "code",
      "source": [
        "!pip install chromadb"
      ],
      "metadata": {
        "id": "B1LJZuw9P0E3"
      },
      "execution_count": null,
      "outputs": []
    },
    {
      "cell_type": "code",
      "source": [
        "from langchain.document_loaders import PyPDFLoader\n",
        "pdf_loader = PyPDFLoader(\"sample_data/sample.pdf\")\n",
        "documents = pdf_loader.load()\n",
        "\n"
      ],
      "metadata": {
        "id": "iRX1aiyRQVQ7"
      },
      "execution_count": null,
      "outputs": []
    },
    {
      "cell_type": "code",
      "source": [
        "from langchain_groq import ChatGroq\n",
        "from langchain.chains import RetrievalQA\n",
        "from langchain.vectorstores import Chroma\n",
        "from langchain.embeddings import HuggingFaceEmbeddings\n",
        "from langchain.text_splitter import CharacterTextSplitter\n",
        "from langchain.document_loaders import PyPDFLoader\n",
        "from google.colab import userdata\n",
        "key=userdata.get('GROQ_API_KEY')\n",
        "\n",
        "# Load the PDF\n",
        "pdf_loader = PyPDFLoader(\"sample_data/sample.pdf\")\n",
        "documents = pdf_loader.load()\n",
        "\n",
        "\n",
        "text_splitter = CharacterTextSplitter(chunk_size=1000, chunk_overlap=200)\n",
        "split_docs = text_splitter.split_documents(documents)\n",
        "\n",
        "\n",
        "embedding_model = HuggingFaceEmbeddings(model_name=\"all-MiniLM-L6-v2\")\n",
        "\n",
        "\n",
        "vector_db = Chroma.from_documents(split_docs, embedding_model)\n",
        "\n",
        "\n",
        "llm = ChatGroq(model_name=\"llama-3.3-70b-versatile\", groq_api_key=key)\n",
        "\n",
        "retriever = vector_db.as_retriever()\n",
        "qa_chain = RetrievalQA.from_chain_type(llm, retriever=retriever)\n",
        "\n",
        "\n",
        "while True:\n",
        "    query = input(\"\\nEnter Your Question (or type 'exit' to quit): \")\n",
        "\n",
        "    if query.lower() == \"exit\":\n",
        "        print(\"Exiting... 👋\")\n",
        "        break\n",
        "\n",
        "    response = qa_chain.run(query)\n",
        "    print(\"\\nAnswer:\\n\", response)\n",
        "\n"
      ],
      "metadata": {
        "colab": {
          "base_uri": "https://localhost:8080/"
        },
        "id": "DNA0PT4tSNOl",
        "outputId": "fd9bc97d-6f98-4407-e4bc-65b923c88875"
      },
      "execution_count": null,
      "outputs": [
        {
          "output_type": "stream",
          "name": "stdout",
          "text": [
            "\n",
            "Enter Your Question (or type 'exit' to quit): hii\n",
            "\n",
            "Answer:\n",
            " It looks like you provided some context, but it seems to be a repetition of the same text \"15 SEQUENCE DIAGRAM\" multiple times. Could you please clarify what you would like to know or ask a specific question? I'll do my best to help.\n",
            "\n",
            "Enter Your Question (or type 'exit' to quit): what are limitaions\n",
            "\n",
            "Answer:\n",
            " Based on the provided context, the limitations are:\n",
            "\n",
            "1. **Limited User Base**: The app's user base may be limited, impacting the diversity of connections and content available.\n",
            "2. **Feature Scope**: The app may have a more limited feature set compared to comprehensive social media platforms.\n",
            "3. **Scalability Challenges**: Challenges may arise in scaling infrastructure and features as the user base grows.\n",
            "4. **Dependency on Internet Connectivity**: The app's functionality heavily relies on a stable internet connection.\n",
            "5. **Privacy Concerns**: Despite efforts to secure user data, privacy concerns may still exist.\n",
            "\n",
            "These limitations can impact the app's performance, user engagement, and overall user experience.\n",
            "\n",
            "Enter Your Question (or type 'exit' to quit): hi\n",
            "\n",
            "Answer:\n",
            " It looks like you've provided a snippet of a social media interface, possibly from a platform like Instagram. The text shows multiple instances of \"My Profile\", \"Add Friend\", and \"View Reels\" options, but I don't see a specific question. Could you please clarify what you'd like to know or discuss?\n",
            "\n",
            "Enter Your Question (or type 'exit' to quit): exit\n",
            "Exiting... 👋\n"
          ]
        }
      ]
    }
  ]
}