{
  "nbformat": 4,
  "nbformat_minor": 0,
  "metadata": {
    "colab": {
      "provenance": [],
      "authorship_tag": "ABX9TyNxdB5cYX2v6Q4Pg88VuzCP",
      "include_colab_link": true
    },
    "kernelspec": {
      "name": "python3",
      "display_name": "Python 3"
    },
    "language_info": {
      "name": "python"
    }
  },
  "cells": [
    {
      "cell_type": "markdown",
      "metadata": {
        "id": "view-in-github",
        "colab_type": "text"
      },
      "source": [
        "<a href=\"https://colab.research.google.com/github/mayureshpawashe/chatbot/blob/main/RAG_Advanced.ipynb\" target=\"_parent\"><img src=\"https://colab.research.google.com/assets/colab-badge.svg\" alt=\"Open In Colab\"/></a>"
      ]
    },
    {
      "cell_type": "code",
      "execution_count": null,
      "metadata": {
        "id": "qj65X8jLW6IN"
      },
      "outputs": [],
      "source": [
        "!pip install langchain openai chromadb requests beautifulsoup4 python-dotenv langchain_community tiktoken langchain_groq"
      ]
    },
    {
      "cell_type": "code",
      "source": [
        "import requests\n",
        "import os\n",
        "from dotenv import load_dotenv\n",
        "from langchain.text_splitter import RecursiveCharacterTextSplitter\n",
        "from langchain.vectorstores import Chroma\n",
        "from langchain.embeddings import HuggingFaceEmbeddings\n",
        "from langchain.chains import RetrievalQA\n",
        "from langchain_groq import ChatGroq\n",
        "from google.colab import userdata\n",
        "# Load API keys from .env file\n",
        "load_dotenv()\n",
        "GROQ_API_KEY = userdata.get('GROQ_API_KEY')\n",
        "NEWS_API_KEY = userdata.get('NEWS_API_KEY')\n",
        "\n",
        "# Step 1: Fetch live news data\n",
        "def fetch_news():\n",
        "    url = f\"https://newsapi.org/v2/top-headlines?country=us&category=technology&apiKey={NEWS_API_KEY}\"\n",
        "    response = requests.get(url)\n",
        "    if response.status_code == 200:\n",
        "        articles = response.json().get(\"articles\", [])\n",
        "        news_text = \"\\n\".join([article[\"title\"] + \": \" + article[\"description\"] for article in articles if article[\"description\"]])\n",
        "        return news_text\n",
        "    return \"Failed to fetch live news.\"\n",
        "\n",
        "# Fetch latest news\n",
        "news_text = fetch_news()\n",
        "\n",
        "# Step 2: Split text into smaller chunks\n",
        "splitter = RecursiveCharacterTextSplitter(chunk_size=500, chunk_overlap=50)\n",
        "chunks = splitter.split_text(news_text)\n",
        "\n",
        "# Step 3: Convert text into embeddings using Hugging Face\n",
        "embedding_model = HuggingFaceEmbeddings(model_name=\"sentence-transformers/all-MiniLM-L6-v2\")\n",
        "vector_db = Chroma.from_texts(chunks, embedding_model)\n",
        "\n",
        "# Step 4: Initialize Groq's Mixtral model\n",
        "llm = ChatGroq(model_name=\"mixtral-8x7b-32768\", groq_api_key=GROQ_API_KEY)\n",
        "\n",
        "# Step 5: Create Retrieval-based QA system\n",
        "retriever = vector_db.as_retriever()\n",
        "qa_chain = RetrievalQA.from_chain_type(llm, retriever=retriever)\n",
        "\n",
        "# Step 6: Ask questions based on latest news\n",
        "while True:\n",
        "    query = input(\"\\nEnter Your Question (or type 'exit' to quit): \")\n",
        "    if query.lower() == \"exit\":\n",
        "        print(\"Exiting... 👋\")\n",
        "        break\n",
        "    response = qa_chain.run(query)\n",
        "    print(\"\\nAnswer:\\n\", response)\n"
      ],
      "metadata": {
        "colab": {
          "base_uri": "https://localhost:8080/",
          "height": 807
        },
        "id": "4pxQr-ISyISP",
        "outputId": "4d84ae66-9984-418e-e5c8-a827428ef249"
      },
      "execution_count": 10,
      "outputs": [
        {
          "output_type": "stream",
          "name": "stdout",
          "text": [
            "\n",
            "Enter Your Question (or type 'exit' to quit): pune\n",
            "\n",
            "Answer:\n",
            " I don't see a user's question provided in the context. However, I can summarize the pieces of context:\n",
            "\n",
            "1. Two AI chatbots switched to speaking in another language during a conversation, shocking users.\n",
            "2. Adobe is releasing a Photoshop app for Android soon, in addition to its existing web and iPhone versions.\n",
            "3. Asteroid mining startup AstroForge is launching a tiny spacecraft on a deep-space mission, with the CEO expressing fear about the endeavor.\n",
            "4. Inception, an AI startup, has developed a novel AI model based on a diffusion architecture.\n",
            "5. ElevenLabs, an AI startup, raised a $180 million mega-funding round and is launching its own speech-to-text model after being known for audio-generation.\n",
            "\n",
            "Please provide the user's question for a more specific response.\n",
            "\n",
            "Enter Your Question (or type 'exit' to quit): news for iphone\n",
            "\n",
            "Answer:\n",
            " Based on the provided context, the recent news related to the iPhone include:\n",
            "\n",
            "1. Apple has released a new budget handset, the iPhone 16e, priced at $599. It features an A18 chip and Apple Intelligence. The release was low-key without any in-person or online event.\n",
            "2. Apple is addressing a glitch with its dictation feature on some iPhones. The bug briefly suggests the word \"Trump\" when certain words with an \"R\" consonant are spoken, such as \"racist\". Apple has stated that they are working on a fix for this issue.\n",
            "\n",
            "As for data center infrastructure headed to the moon, it is not directly related to the iPhone or Apple, but rather involves the companies Lonestar and Phison.\n"
          ]
        },
        {
          "output_type": "error",
          "ename": "KeyboardInterrupt",
          "evalue": "Interrupted by user",
          "traceback": [
            "\u001b[0;31m---------------------------------------------------------------------------\u001b[0m",
            "\u001b[0;31mKeyboardInterrupt\u001b[0m                         Traceback (most recent call last)",
            "\u001b[0;32m<ipython-input-10-78e98e19896a>\u001b[0m in \u001b[0;36m<cell line: 0>\u001b[0;34m()\u001b[0m\n\u001b[1;32m     43\u001b[0m \u001b[0;31m# Step 6: Ask questions based on latest news\u001b[0m\u001b[0;34m\u001b[0m\u001b[0;34m\u001b[0m\u001b[0m\n\u001b[1;32m     44\u001b[0m \u001b[0;32mwhile\u001b[0m \u001b[0;32mTrue\u001b[0m\u001b[0;34m:\u001b[0m\u001b[0;34m\u001b[0m\u001b[0;34m\u001b[0m\u001b[0m\n\u001b[0;32m---> 45\u001b[0;31m     \u001b[0mquery\u001b[0m \u001b[0;34m=\u001b[0m \u001b[0minput\u001b[0m\u001b[0;34m(\u001b[0m\u001b[0;34m\"\\nEnter Your Question (or type 'exit' to quit): \"\u001b[0m\u001b[0;34m)\u001b[0m\u001b[0;34m\u001b[0m\u001b[0;34m\u001b[0m\u001b[0m\n\u001b[0m\u001b[1;32m     46\u001b[0m     \u001b[0;32mif\u001b[0m \u001b[0mquery\u001b[0m\u001b[0;34m.\u001b[0m\u001b[0mlower\u001b[0m\u001b[0;34m(\u001b[0m\u001b[0;34m)\u001b[0m \u001b[0;34m==\u001b[0m \u001b[0;34m\"exit\"\u001b[0m\u001b[0;34m:\u001b[0m\u001b[0;34m\u001b[0m\u001b[0;34m\u001b[0m\u001b[0m\n\u001b[1;32m     47\u001b[0m         \u001b[0mprint\u001b[0m\u001b[0;34m(\u001b[0m\u001b[0;34m\"Exiting... 👋\"\u001b[0m\u001b[0;34m)\u001b[0m\u001b[0;34m\u001b[0m\u001b[0;34m\u001b[0m\u001b[0m\n",
            "\u001b[0;32m/usr/local/lib/python3.11/dist-packages/ipykernel/kernelbase.py\u001b[0m in \u001b[0;36mraw_input\u001b[0;34m(self, prompt)\u001b[0m\n\u001b[1;32m   1175\u001b[0m                 \u001b[0;34m\"raw_input was called, but this frontend does not support input requests.\"\u001b[0m\u001b[0;34m\u001b[0m\u001b[0;34m\u001b[0m\u001b[0m\n\u001b[1;32m   1176\u001b[0m             )\n\u001b[0;32m-> 1177\u001b[0;31m         return self._input_request(\n\u001b[0m\u001b[1;32m   1178\u001b[0m             \u001b[0mstr\u001b[0m\u001b[0;34m(\u001b[0m\u001b[0mprompt\u001b[0m\u001b[0;34m)\u001b[0m\u001b[0;34m,\u001b[0m\u001b[0;34m\u001b[0m\u001b[0;34m\u001b[0m\u001b[0m\n\u001b[1;32m   1179\u001b[0m             \u001b[0mself\u001b[0m\u001b[0;34m.\u001b[0m\u001b[0m_parent_ident\u001b[0m\u001b[0;34m[\u001b[0m\u001b[0;34m\"shell\"\u001b[0m\u001b[0;34m]\u001b[0m\u001b[0;34m,\u001b[0m\u001b[0;34m\u001b[0m\u001b[0;34m\u001b[0m\u001b[0m\n",
            "\u001b[0;32m/usr/local/lib/python3.11/dist-packages/ipykernel/kernelbase.py\u001b[0m in \u001b[0;36m_input_request\u001b[0;34m(self, prompt, ident, parent, password)\u001b[0m\n\u001b[1;32m   1217\u001b[0m             \u001b[0;32mexcept\u001b[0m \u001b[0mKeyboardInterrupt\u001b[0m\u001b[0;34m:\u001b[0m\u001b[0;34m\u001b[0m\u001b[0;34m\u001b[0m\u001b[0m\n\u001b[1;32m   1218\u001b[0m                 \u001b[0;31m# re-raise KeyboardInterrupt, to truncate traceback\u001b[0m\u001b[0;34m\u001b[0m\u001b[0;34m\u001b[0m\u001b[0m\n\u001b[0;32m-> 1219\u001b[0;31m                 \u001b[0;32mraise\u001b[0m \u001b[0mKeyboardInterrupt\u001b[0m\u001b[0;34m(\u001b[0m\u001b[0;34m\"Interrupted by user\"\u001b[0m\u001b[0;34m)\u001b[0m \u001b[0;32mfrom\u001b[0m \u001b[0;32mNone\u001b[0m\u001b[0;34m\u001b[0m\u001b[0;34m\u001b[0m\u001b[0m\n\u001b[0m\u001b[1;32m   1220\u001b[0m             \u001b[0;32mexcept\u001b[0m \u001b[0mException\u001b[0m\u001b[0;34m:\u001b[0m\u001b[0;34m\u001b[0m\u001b[0;34m\u001b[0m\u001b[0m\n\u001b[1;32m   1221\u001b[0m                 \u001b[0mself\u001b[0m\u001b[0;34m.\u001b[0m\u001b[0mlog\u001b[0m\u001b[0;34m.\u001b[0m\u001b[0mwarning\u001b[0m\u001b[0;34m(\u001b[0m\u001b[0;34m\"Invalid Message:\"\u001b[0m\u001b[0;34m,\u001b[0m \u001b[0mexc_info\u001b[0m\u001b[0;34m=\u001b[0m\u001b[0;32mTrue\u001b[0m\u001b[0;34m)\u001b[0m\u001b[0;34m\u001b[0m\u001b[0;34m\u001b[0m\u001b[0m\n",
            "\u001b[0;31mKeyboardInterrupt\u001b[0m: Interrupted by user"
          ]
        }
      ]
    }
  ]
}