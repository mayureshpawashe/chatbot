{
  "nbformat": 4,
  "nbformat_minor": 0,
  "metadata": {
    "colab": {
      "provenance": [],
      "gpuType": "T4",
      "authorship_tag": "ABX9TyP7kYWUid6QK8C/AwZy6vl9"
    },
    "kernelspec": {
      "name": "python3",
      "display_name": "Python 3"
    },
    "language_info": {
      "name": "python"
    },
    "accelerator": "GPU"
  },
  "cells": [
    {
      "cell_type": "code",
      "execution_count": null,
      "metadata": {
        "id": "qj65X8jLW6IN"
      },
      "outputs": [],
      "source": [
        "!pip install langchain openai chromadb requests beautifulsoup4 python-dotenv langchain_community tiktoken langchain_groq"
      ]
    },
    {
      "cell_type": "code",
      "source": [
        "import requests\n",
        "import os\n",
        "from dotenv import load_dotenv\n",
        "from langchain.text_splitter import RecursiveCharacterTextSplitter\n",
        "from langchain.vectorstores import Chroma\n",
        "from langchain.embeddings import HuggingFaceEmbeddings\n",
        "from langchain.chains import RetrievalQA\n",
        "from langchain_groq import ChatGroq\n",
        "from google.colab import userdata\n",
        "\n",
        "load_dotenv()\n",
        "GROQ_API_KEY = userdata.get('GROQ_API_KEY')\n",
        "NEWS_API_KEY = userdata.get('NEWS_API_KEY')\n",
        "\n",
        "\n",
        "def fetch_news():\n",
        "    url = f\"https://newsapi.org/v2/top-headlines?country=us&category=technology&apiKey={NEWS_API_KEY}\"\n",
        "    response = requests.get(url)\n",
        "    if response.status_code == 200:\n",
        "        articles = response.json().get(\"articles\", [])\n",
        "        news_text = \"\\n\".join([article[\"title\"] + \": \" + article[\"description\"] for article in articles if article[\"description\"]])\n",
        "        return news_text\n",
        "    return \"Failed to fetch live news.\"\n",
        "\n",
        "news_text = fetch_news()\n",
        "\n",
        "splitter = RecursiveCharacterTextSplitter(chunk_size=500, chunk_overlap=50)\n",
        "chunks = splitter.split_text(news_text)\n",
        "\n",
        "\n",
        "embedding_model = HuggingFaceEmbeddings(model_name=\"sentence-transformers/all-MiniLM-L6-v2\")\n",
        "vector_db = Chroma.from_texts(chunks, embedding_model)\n",
        "\n",
        "llm = ChatGroq(model_name=\"mixtral-8x7b-32768\", groq_api_key=GROQ_API_KEY)\n",
        "\n",
        "retriever = vector_db.as_retriever()\n",
        "qa_chain = RetrievalQA.from_chain_type(llm, retriever=retriever)\n",
        "\n",
        "while True:\n",
        "    query = input(\"\\nEnter Your Question (or type 'exit' to quit): \")\n",
        "    if query.lower() == \"exit\":\n",
        "        print(\"Exiting... 👋\")\n",
        "        break\n",
        "    response = qa_chain.run(query)\n",
        "    print(\"\\nAnswer:\\n\", response)\n"
      ],
      "metadata": {
        "colab": {
          "base_uri": "https://localhost:8080/"
        },
        "id": "4pxQr-ISyISP",
        "outputId": "f822b200-efa6-48fd-f7a3-b3d30705356d"
      },
      "execution_count": 6,
      "outputs": [
        {
          "output_type": "stream",
          "name": "stdout",
          "text": [
            "\n",
            "Enter Your Question (or type 'exit' to quit): news about iphone\n",
            "\n",
            "Answer:\n",
            " The user's question: \"Is there any news about the iPhone 16e or a new data center on the moon?\"\n",
            "\n",
            "Yes, there is news about the iPhone 16e. Apple has released its latest budget handset, the $599 iPhone 16e, without any big event or media coverage. The iPhone 16e is equipped with an A18 chip and Apple Intelligence.\n",
            "\n",
            "There is also news about a new data center on the moon. Lonestar and Phison are sending the infrastructure needed to build out a data center to the moon with the goal of growing its capacity to a petabyte in the future.\n",
            "\n",
            "There is no news about any connection between the iPhone 16e and the new data center on the moon.\n",
            "\n",
            "Enter Your Question (or type 'exit' to quit): exit\n",
            "Exiting... 👋\n"
          ]
        }
      ]
    }
  ]
}